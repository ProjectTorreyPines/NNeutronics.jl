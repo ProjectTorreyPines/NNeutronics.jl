{
 "cells": [
  {
   "cell_type": "code",
   "execution_count": null,
   "id": "a55aef6a-343a-4c90-b247-61d93fcc0363",
   "metadata": {
    "execution": {
     "iopub.execute_input": "2024-12-11T15:50:01.711000-08:00",
     "iopub.status.busy": "2024-12-11T15:50:01.441000-08:00",
     "iopub.status.idle": "2024-12-11T15:51:06.056000-08:00",
     "shell.execute_reply": "2024-12-11T15:51:06.035000-08:00"
    },
    "tags": []
   },
   "outputs": [],
   "source": [
    "using Pkg\n",
    "Pkg.activate(\".\")\n",
    "using Plots\n",
    "using Revise\n",
    "using NNeutronics\n",
    "using Interact\n",
    "using Printf"
   ]
  },
  {
   "cell_type": "code",
   "execution_count": null,
   "id": "3fb4c4b0-d624-4bab-821e-5db59406cfe5",
   "metadata": {
    "execution": {
     "iopub.execute_input": "2024-12-11T15:53:04.388000-08:00",
     "iopub.status.busy": "2024-12-11T15:53:04.223000-08:00",
     "iopub.status.idle": "2024-12-11T15:53:05.114000-08:00",
     "shell.execute_reply": "2024-12-11T15:53:05.114000-08:00"
    },
    "tags": []
   },
   "outputs": [],
   "source": [
    "println(join(NNeutronics.col_names(), \",\"))\n",
    "println(length(NNeutronics.col_names()))"
   ]
  },
  {
   "cell_type": "code",
   "execution_count": null,
   "id": "ae8348af-4778-412f-a29f-e06f218d5209",
   "metadata": {
    "execution": {
     "iopub.execute_input": "2024-12-11T15:53:06.240000-08:00",
     "iopub.status.busy": "2024-12-11T15:53:06.240000-08:00",
     "iopub.status.idle": "2024-12-11T15:53:10.642000-08:00",
     "shell.execute_reply": "2024-12-11T15:53:10.642000-08:00"
    },
    "tags": []
   },
   "outputs": [],
   "source": [
    "blanket = Blanket();"
   ]
  },
  {
   "cell_type": "code",
   "execution_count": null,
   "id": "53df603c-bef6-4881-9eda-16784d357f52",
   "metadata": {
    "execution": {
     "iopub.execute_input": "2024-12-11T15:54:32.858000-08:00",
     "iopub.status.busy": "2024-12-11T15:54:32.857000-08:00",
     "iopub.status.idle": "2024-12-11T15:54:33.063000-08:00",
     "shell.execute_reply": "2024-12-11T15:54:33.063000-08:00"
    },
    "tags": []
   },
   "outputs": [],
   "source": [
    "min_flux = 1E-6\n",
    "min_heating = 1E-6\n",
    "min_energy = 1E-6\n",
    "\n",
    "d1 = 0.02\n",
    "d2 = 1.00\n",
    "d3 = 0.02\n",
    "Li6 = 20.0\n",
    "\n",
    "@manipulate for d1 in blanket.D1, d2 in blanket.D2, d3 in blanket.D3, Li6 in blanket.enrichment\n",
    "    r1 = d1 + d2 + d3\n",
    "\n",
    "    # TBR\n",
    "    x = LinRange(blanket.D1[1], d1, 100)\n",
    "    x1 = x\n",
    "    y1 = TBR.(blanket, x, blanket.D2[1], blanket.D3[1], Li6)\n",
    "    x = LinRange(blanket.D2[1], d2, 100)\n",
    "    x2 = d1 .+ x\n",
    "    y2 = TBR.(blanket, d1, x, blanket.D3[1], Li6)\n",
    "    x = LinRange(blanket.D3[1], d3, 100)\n",
    "    x3 = d1 .+ d2 .+ x\n",
    "    y3 = TBR.(blanket, d1, d2, x, Li6)\n",
    "    final_TBR = TBR(blanket, d1, d2, d3, Li6)\n",
    "    pt = Plots.plot(vcat(x1, x2, x3), vcat(y1, y2, y3), lw=2, label=\"\", title=@sprintf(\"TBR %g\", final_TBR))\n",
    "#    hline!(pt, [1.0], label=\"\", color=:green, linestyle=:dash)\n",
    "#    hline!(pt, [final_TBR], label=\"\", color=:orange, linestyle=:dash)\n",
    "    vline!(pt, [0.0, d1, d1 + d2, d1 + d2 + d3], label=\"\", color=:red)\n",
    "    plot!(pt, xlabel=\"[m]\", xlim=[0.0, d1 + d2 + d3], yscale=:log10, ylabel=\"TBR\")\n",
    "\n",
    "    # escape\n",
    "    denergy = diff(NNeutronics.energy_edges())\n",
    "    pe = plot(blanket.energy_grid, leakeage_energy(blanket, d1, d2, d3, Li6, blanket.energy_grid) ./ denergy .+ min_energy, label=\"\", lw=2)\n",
    "    plot!(pe, blanket.energy_grid, leakeage_energy(blanket, blanket.D1[1], blanket.D2[1], blanket.D3[1], 1.0, blanket.energy_grid) ./ denergy .+ min_energy, color=:black, label=\"\")\n",
    "    vline!(pe, [14.1], color=:blue, linestyle=:dash, label=\"\")\n",
    "    plot!(pe, xlabel=\"MeV\", yscale=:log10, xlim=[0, 16], title=\"Escape energy distribution\")\n",
    "\n",
    "    # heating\n",
    "    dradial = diff(NNeutronics.radial_edges())\n",
    "    ph = plot(blanket.radial_grid * r1, heating(blanket, d1, d2, d3, Li6, blanket.radial_grid) .+ min_heating, label=\"\", lw=2)\n",
    "    vline!(ph, [0.0, d1, d1 + d2, d1 + d2 + d3], label=\"\")\n",
    "    plot!(ph, xlabel=\"[m]\", xlim=[0, r1], title=\"Heating\", ylabel=\"eV cm⁻³\")#,yscale=:log10)\n",
    "\n",
    "    # flux\n",
    "    norm = flux(blanket, d1, d2, d3, Li6, blanket.radial_grid)[1] .+ min_flux\n",
    "    pf = plot(blanket.radial_grid * r1, (flux(blanket, d1, d2, d3, Li6, blanket.radial_grid) .+ min_flux)/norm, label=\"\", lw=2)\n",
    "    vline!(pf, [0.0, d1, d1 + d2, d1 + d2 + d3], label=\"\")\n",
    "    plot!(pf, xlabel=\"[m]\", xlim=[0, r1], title=\"Normalized flux\", ylabel=\"cm⁻² s⁻¹\")#,yscale=:log10)\n",
    "\n",
    "    plot(pt, pe, ph, pf, layout=4, size=(800, 500))\n",
    "end"
   ]
  },
  {
   "cell_type": "code",
   "execution_count": null,
   "id": "9cd09077-f96c-43ca-8ce4-743144188762",
   "metadata": {
    "execution": {
     "iopub.execute_input": "2024-05-01T22:42:13.802000-07:00",
     "iopub.status.busy": "2024-05-01T22:42:13.785000-07:00",
     "iopub.status.idle": "2024-05-01T22:42:14.527000-07:00",
     "shell.execute_reply": "2024-05-01T22:42:14.527000-07:00"
    },
    "tags": []
   },
   "outputs": [],
   "source": [
    "@show length(blanket.D1)\n",
    "@show length(blanket.D2)\n",
    "@show length(blanket.D3)\n",
    "@show length(blanket.enrichment)\n",
    "length(blanket.D1) * length(blanket.D2) * length(blanket.D3) * length(blanket.enrichment)"
   ]
  },
  {
   "cell_type": "code",
   "execution_count": null,
   "id": "4a0ac285-143a-4f8c-baab-f94f11d2aaff",
   "metadata": {
    "tags": []
   },
   "outputs": [],
   "source": [
    "fieldnames(typeof(blanket))"
   ]
  }
 ],
 "metadata": {
  "@webio": {
   "lastCommId": "e0425c6c-ca83-4b75-9952-9674614ddc99",
   "lastKernelId": "c535345d-394f-4dc2-afa6-af49208c0e70"
  },
  "kernelspec": {
   "display_name": "Julia 1.11.2",
   "language": "julia",
   "name": "julia-1.11"
  },
  "language_info": {
   "file_extension": ".jl",
   "mimetype": "application/julia",
   "name": "julia",
   "version": "1.11.2"
  }
 },
 "nbformat": 4,
 "nbformat_minor": 5
}
